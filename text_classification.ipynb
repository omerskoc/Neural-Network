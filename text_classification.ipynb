{
  "nbformat": 4,
  "nbformat_minor": 0,
  "metadata": {
    "colab": {
      "name": "text_classification.ipynb",
      "provenance": []
    },
    "kernelspec": {
      "name": "python3",
      "display_name": "Python 3"
    },
    "language_info": {
      "name": "python"
    },
    "accelerator": "GPU"
  },
  "cells": [
    {
      "cell_type": "code",
      "metadata": {
        "id": "t86RZZBgDrn_"
      },
      "source": [
        "import matplotlib.pyplot as plt\n",
        "import numpy as np\n",
        "import os\n",
        "import shutil\n",
        "import re\n",
        "import string\n",
        "\n",
        "import tensorflow as tf"
      ],
      "execution_count": 1,
      "outputs": []
    },
    {
      "cell_type": "code",
      "metadata": {
        "colab": {
          "base_uri": "https://localhost:8080/"
        },
        "id": "gub66ZNMECQu",
        "outputId": "ff21ca50-ec28-453a-b0d7-86130d89b525"
      },
      "source": [
        "url = \"https://ai.stanford.edu/~amaas/data/sentiment/aclImdb_v1.tar.gz\"\n",
        "\n",
        "dataset = tf.keras.utils.get_file(\"aclImdb_v1\", url, untar=True, cache_dir=\".\", cache_subdir=\"\")\n"
      ],
      "execution_count": 2,
      "outputs": [
        {
          "output_type": "stream",
          "text": [
            "Downloading data from https://ai.stanford.edu/~amaas/data/sentiment/aclImdb_v1.tar.gz\n",
            "84131840/84125825 [==============================] - 6s 0us/step\n"
          ],
          "name": "stdout"
        }
      ]
    },
    {
      "cell_type": "code",
      "metadata": {
        "colab": {
          "base_uri": "https://localhost:8080/",
          "height": 35
        },
        "id": "iQyUhWEQFSCc",
        "outputId": "fe5d4568-e949-4844-ffdb-0b1ef1d081d9"
      },
      "source": [
        "dataset_dir = os.path.join(os.path.dirname(dataset),\"aclImdb\")\n",
        "dataset_dir"
      ],
      "execution_count": 3,
      "outputs": [
        {
          "output_type": "execute_result",
          "data": {
            "application/vnd.google.colaboratory.intrinsic+json": {
              "type": "string"
            },
            "text/plain": [
              "'./aclImdb'"
            ]
          },
          "metadata": {
            "tags": []
          },
          "execution_count": 3
        }
      ]
    },
    {
      "cell_type": "code",
      "metadata": {
        "colab": {
          "base_uri": "https://localhost:8080/"
        },
        "id": "ojr-pJfkFZ7G",
        "outputId": "5b9d94c8-aa20-4c35-dd38-3519a33b03bd"
      },
      "source": [
        "os.listdir(dataset_dir)"
      ],
      "execution_count": 4,
      "outputs": [
        {
          "output_type": "execute_result",
          "data": {
            "text/plain": [
              "['imdb.vocab', 'train', 'README', 'test', 'imdbEr.txt']"
            ]
          },
          "metadata": {
            "tags": []
          },
          "execution_count": 4
        }
      ]
    },
    {
      "cell_type": "code",
      "metadata": {
        "colab": {
          "base_uri": "https://localhost:8080/",
          "height": 35
        },
        "id": "cspjJG8zFsnR",
        "outputId": "4f9e24bd-7510-4655-a679-21337838504b"
      },
      "source": [
        "train_dir = os.path.join(dataset_dir,\"train\")\n",
        "train_dir"
      ],
      "execution_count": 5,
      "outputs": [
        {
          "output_type": "execute_result",
          "data": {
            "application/vnd.google.colaboratory.intrinsic+json": {
              "type": "string"
            },
            "text/plain": [
              "'./aclImdb/train'"
            ]
          },
          "metadata": {
            "tags": []
          },
          "execution_count": 5
        }
      ]
    },
    {
      "cell_type": "code",
      "metadata": {
        "colab": {
          "base_uri": "https://localhost:8080/"
        },
        "id": "5xczikO3Fzj0",
        "outputId": "8ebf4943-2fd7-4163-c381-49aa9abaf6cd"
      },
      "source": [
        "os.listdir(train_dir)"
      ],
      "execution_count": 6,
      "outputs": [
        {
          "output_type": "execute_result",
          "data": {
            "text/plain": [
              "['labeledBow.feat',\n",
              " 'urls_unsup.txt',\n",
              " 'pos',\n",
              " 'urls_pos.txt',\n",
              " 'unsupBow.feat',\n",
              " 'unsup',\n",
              " 'urls_neg.txt',\n",
              " 'neg']"
            ]
          },
          "metadata": {
            "tags": []
          },
          "execution_count": 6
        }
      ]
    },
    {
      "cell_type": "code",
      "metadata": {
        "id": "oIF3xVOQGYy8"
      },
      "source": [
        "remove_dir = os.path.join(train_dir, \"unsup\")\n",
        "shutil.rmtree(remove_dir)"
      ],
      "execution_count": 7,
      "outputs": []
    },
    {
      "cell_type": "code",
      "metadata": {
        "colab": {
          "base_uri": "https://localhost:8080/",
          "height": 35
        },
        "id": "umjLWMrTGtfH",
        "outputId": "9fea4644-8769-4f71-9bd5-af09880deb09"
      },
      "source": [
        "sample_file = os.path.join(train_dir, \"pos/10002_7.txt\")\n",
        "sample_file"
      ],
      "execution_count": 8,
      "outputs": [
        {
          "output_type": "execute_result",
          "data": {
            "application/vnd.google.colaboratory.intrinsic+json": {
              "type": "string"
            },
            "text/plain": [
              "'./aclImdb/train/pos/10002_7.txt'"
            ]
          },
          "metadata": {
            "tags": []
          },
          "execution_count": 8
        }
      ]
    },
    {
      "cell_type": "code",
      "metadata": {
        "colab": {
          "base_uri": "https://localhost:8080/"
        },
        "id": "VWfB6WRNG66f",
        "outputId": "91ffe82f-79d8-43ae-adfc-163935c5e0d2"
      },
      "source": [
        "with open(sample_file) as f:\n",
        "    print(f.read())"
      ],
      "execution_count": 9,
      "outputs": [
        {
          "output_type": "stream",
          "text": [
            "This is easily the most underrated film inn the Brooks cannon. Sure, its flawed. It does not give a realistic view of homelessness (unlike, say, how Citizen Kane gave a realistic view of lounge singers, or Titanic gave a realistic view of Italians YOU IDIOTS). Many of the jokes fall flat. But still, this film is very lovable in a way many comedies are not, and to pull that off in a story about some of the most traditionally reviled members of society is truly impressive. Its not The Fisher King, but its not crap, either. My only complaint is that Brooks should have cast someone else in the lead (I love Mel as a Director and Writer, not so much as a lead).\n"
          ],
          "name": "stdout"
        }
      ]
    },
    {
      "cell_type": "code",
      "metadata": {
        "colab": {
          "base_uri": "https://localhost:8080/"
        },
        "id": "6lOCoFWtHN8q",
        "outputId": "33c41bd5-beac-4bfc-bcc2-f7d31d789b44"
      },
      "source": [
        "batch_size = 32\n",
        "seed = 42\n",
        "\n",
        "raw_train_ds = tf.keras.preprocessing.text_dataset_from_directory(\n",
        "    \"aclImdb/train\",\n",
        "    batch_size = batch_size,\n",
        "    validation_split = 0.2,\n",
        "    subset = \"training\",\n",
        "    seed = seed\n",
        ")"
      ],
      "execution_count": 10,
      "outputs": [
        {
          "output_type": "stream",
          "text": [
            "Found 25000 files belonging to 2 classes.\n",
            "Using 20000 files for training.\n"
          ],
          "name": "stdout"
        }
      ]
    },
    {
      "cell_type": "code",
      "metadata": {
        "colab": {
          "base_uri": "https://localhost:8080/"
        },
        "id": "uLgAUOy-IbDP",
        "outputId": "6b95981c-ddd0-40d6-9537-451fb2f3c763"
      },
      "source": [
        "for text_batch, label_batch in raw_train_ds.take(1):\n",
        "    for i in range(3):\n",
        "        print(\"Review :\", text_batch.numpy()[i])\n",
        "        print(\"Label :\", label_batch.numpy()[i])"
      ],
      "execution_count": 11,
      "outputs": [
        {
          "output_type": "stream",
          "text": [
            "Review : b'\"Pandemonium\" is a horror movie spoof that comes off more stupid than funny. Believe me when I tell you, I love comedies. Especially comedy spoofs. \"Airplane\", \"The Naked Gun\" trilogy, \"Blazing Saddles\", \"High Anxiety\", and \"Spaceballs\" are some of my favorite comedies that spoof a particular genre. \"Pandemonium\" is not up there with those films. Most of the scenes in this movie had me sitting there in stunned silence because the movie wasn\\'t all that funny. There are a few laughs in the film, but when you watch a comedy, you expect to laugh a lot more than a few times and that\\'s all this film has going for it. Geez, \"Scream\" had more laughs than this film and that was more of a horror film. How bizarre is that?<br /><br />*1/2 (out of four)'\n",
            "Label : 0\n",
            "Review : b\"David Mamet is a very interesting and a very un-equal director. His first movie 'House of Games' was the one I liked best, and it set a series of films with characters whose perspective of life changes as they get into complicated situations, and so does the perspective of the viewer.<br /><br />So is 'Homicide' which from the title tries to set the mind of the viewer to the usual crime drama. The principal characters are two cops, one Jewish and one Irish who deal with a racially charged area. The murder of an old Jewish shop owner who proves to be an ancient veteran of the Israeli Independence war triggers the Jewish identity in the mind and heart of the Jewish detective.<br /><br />This is were the flaws of the film are the more obvious. The process of awakening is theatrical and hard to believe, the group of Jewish militants is operatic, and the way the detective eventually walks to the final violent confrontation is pathetic. The end of the film itself is Mamet-like smart, but disappoints from a human emotional perspective.<br /><br />Joe Mantegna and William Macy give strong performances, but the flaws of the story are too evident to be easily compensated.\"\n",
            "Label : 0\n",
            "Review : b'Great documentary about the lives of NY firefighters during the worst terrorist attack of all time.. That reason alone is why this should be a must see collectors item.. What shocked me was not only the attacks, but the\"High Fat Diet\" and physical appearance of some of these firefighters. I think a lot of Doctors would agree with me that,in the physical shape they were in, some of these firefighters would NOT of made it to the 79th floor carrying over 60 lbs of gear. Having said that i now have a greater respect for firefighters and i realize becoming a firefighter is a life altering job. The French have a history of making great documentary\\'s and that is what this is, a Great Documentary.....'\n",
            "Label : 1\n"
          ],
          "name": "stdout"
        }
      ]
    },
    {
      "cell_type": "code",
      "metadata": {
        "colab": {
          "base_uri": "https://localhost:8080/"
        },
        "id": "zlCXALe2JNu0",
        "outputId": "fa468c25-9bee-4033-8114-120a7be6c1c0"
      },
      "source": [
        "raw_val_ds = tf.keras.preprocessing.text_dataset_from_directory(\n",
        "    \"aclImdb/train\",\n",
        "    batch_size = batch_size,\n",
        "    validation_split = 0.2,\n",
        "    subset = \"validation\",\n",
        "    seed = seed\n",
        ")"
      ],
      "execution_count": 12,
      "outputs": [
        {
          "output_type": "stream",
          "text": [
            "Found 25000 files belonging to 2 classes.\n",
            "Using 5000 files for validation.\n"
          ],
          "name": "stdout"
        }
      ]
    },
    {
      "cell_type": "code",
      "metadata": {
        "colab": {
          "base_uri": "https://localhost:8080/"
        },
        "id": "SZbuVDT7JdBV",
        "outputId": "7d791d03-e210-4519-9d8a-5043a906a42d"
      },
      "source": [
        "raw_test_ds = tf.keras.preprocessing.text_dataset_from_directory(\n",
        "    \"aclImdb/test\",\n",
        "    batch_size = batch_size\n",
        ")"
      ],
      "execution_count": 13,
      "outputs": [
        {
          "output_type": "stream",
          "text": [
            "Found 25000 files belonging to 2 classes.\n"
          ],
          "name": "stdout"
        }
      ]
    },
    {
      "cell_type": "code",
      "metadata": {
        "id": "vqNiih2dJ6us"
      },
      "source": [
        "def custom_standardization(input_data):\n",
        "    lowercase = tf.strings.lower(input_data)\n",
        "    stripped_html = tf.strings.regex_replace(lowercase, \"<br />\", \" \")\n",
        "    stripped_punc = tf.strings.regex_replace(stripped_html, \"[%s]\" % re.escape(string.punctuation), \"\")\n",
        "    return stripped_punc"
      ],
      "execution_count": 14,
      "outputs": []
    },
    {
      "cell_type": "code",
      "metadata": {
        "colab": {
          "base_uri": "https://localhost:8080/"
        },
        "id": "eXjlj12BLr3r",
        "outputId": "665b281b-c131-4c32-fe85-81860d1ec689"
      },
      "source": [
        "for text_batch, label_batch in raw_train_ds.take(1):\n",
        "    print(\"Review :\", custom_standardization(text_batch[0]).numpy())\n",
        "    break"
      ],
      "execution_count": 15,
      "outputs": [
        {
          "output_type": "stream",
          "text": [
            "Review : b'having seen most of ringo lams films i can say that this is his best film to date and the most unusual its a ancient china period piece cranked full of kickass martial arts where the location of an underground lair full of traps and dungeons plays as big a part as any of the characters the action is fantastic the story is tense and entertaining and the set design is truely memorable sadly burning paradise has not been made available on dvd and vhs is nexttoimpossible to get your mitts on even if you near the second biggest chinatown in north america like i do if you can find it dont pass it up'\n"
          ],
          "name": "stdout"
        }
      ]
    },
    {
      "cell_type": "code",
      "metadata": {
        "id": "Q0c6ujsJOVIi"
      },
      "source": [
        "max_features = 10000\n",
        "sequence_length = 250\n",
        "\n",
        "vectorize_layer = tf.keras.layers.experimental.preprocessing.TextVectorization(\n",
        "    standardize = custom_standardization,\n",
        "    max_tokens = max_features,\n",
        "    output_mode = \"int\",\n",
        "    output_sequence_length = sequence_length\n",
        ")"
      ],
      "execution_count": 16,
      "outputs": []
    },
    {
      "cell_type": "code",
      "metadata": {
        "id": "G5adNg65QTQh"
      },
      "source": [
        "train_text = raw_train_ds.map(lambda x,y: x)\n",
        "vectorize_layer.adapt(train_text)"
      ],
      "execution_count": 17,
      "outputs": []
    },
    {
      "cell_type": "code",
      "metadata": {
        "id": "ZfFGkpruQ7nF"
      },
      "source": [
        "def vectorize_text(text, label):\n",
        "    text = tf.expand_dims(text, -1)\n",
        "    return vectorize_layer(text), label"
      ],
      "execution_count": 18,
      "outputs": []
    },
    {
      "cell_type": "code",
      "metadata": {
        "colab": {
          "base_uri": "https://localhost:8080/"
        },
        "id": "p6qXLyfaREtF",
        "outputId": "29ada17c-5418-4e99-e4c6-3b7da2c42700"
      },
      "source": [
        "text_batch, label_batch = next(iter(raw_train_ds))\n",
        "print(\"Review:\", text_batch[0])\n",
        "print(\"Label:\", label_batch[0])\n",
        "print(\"Vectorize\", vectorize_text(text_batch[0], label_batch[0]))"
      ],
      "execution_count": 19,
      "outputs": [
        {
          "output_type": "stream",
          "text": [
            "Review: tf.Tensor(b'Belmondo is a tough cop. He goes after a big-time drug dealer (played by Henry Silva, normally a great villain - see \"Sharky\\'s Machine\"; but here he is clearly dubbed, and because of that he lacks his usual charisma). He goes to the scuzziest places of Paris and Marseilles, asks for some names, beats up some people, gets the names, goes to more scuzzy places, asks for more names, beats up more people, etc. The whole movie is punch after punch after punch. It seems that the people who made it had no other ambition than to create the French equivalent of \"Dirty Harry\". Belmondo, who was 50 here, does perform some good stunts at the beginning; apart from those, \"Le Marginal\" is a violent, episodic, trite, shallow and forgettable cop movie. (*1/2)', shape=(), dtype=string)\n",
            "Label: tf.Tensor(0, shape=(), dtype=int32)\n",
            "Vectorize (<tf.Tensor: shape=(1, 250), dtype=int64, numpy=\n",
            "array([[   1,    7,    4, 1233, 1021,   27,  261,  101,    4,    1, 1525,\n",
            "        6992,  248,   32, 1488,    1, 1659,    4,   86, 1011,   67,    1,\n",
            "        1707,   18,  128,   27,    7,  688, 2396,    3,   84,    5,   12,\n",
            "          27, 1453,   24,  616, 3314,   27,  261,    6,    2,    1, 1329,\n",
            "           5, 1371,    3,    1, 1581,   15,   46, 1356, 3612,   56,   46,\n",
            "          79,  201,    2, 1356,  261,    6,   50,    1, 1329, 1581,   15,\n",
            "          50, 1356, 3612,   56,   50,   79,  532,    2,  211,   17,    7,\n",
            "        2851,  101, 2851,  101, 2851,    9,  180,   12,    2,   79,   36,\n",
            "          90,    9,   66,   57,   78, 5415,   70,    6,  916,    2,  800,\n",
            "        4891,    5, 1678, 1347,    1,   36,   13, 1732,  128,  120, 3078,\n",
            "          46,   49, 3274,   31,    2,  435,  948,   35,  143, 3519,    1,\n",
            "           7,    4, 1097, 9578, 3092, 2056,    3, 2512, 1021,   17, 1105,\n",
            "           0,    0,    0,    0,    0,    0,    0,    0,    0,    0,    0,\n",
            "           0,    0,    0,    0,    0,    0,    0,    0,    0,    0,    0,\n",
            "           0,    0,    0,    0,    0,    0,    0,    0,    0,    0,    0,\n",
            "           0,    0,    0,    0,    0,    0,    0,    0,    0,    0,    0,\n",
            "           0,    0,    0,    0,    0,    0,    0,    0,    0,    0,    0,\n",
            "           0,    0,    0,    0,    0,    0,    0,    0,    0,    0,    0,\n",
            "           0,    0,    0,    0,    0,    0,    0,    0,    0,    0,    0,\n",
            "           0,    0,    0,    0,    0,    0,    0,    0,    0,    0,    0,\n",
            "           0,    0,    0,    0,    0,    0,    0,    0,    0,    0,    0,\n",
            "           0,    0,    0,    0,    0,    0,    0,    0,    0,    0,    0,\n",
            "           0,    0,    0,    0,    0,    0,    0,    0]])>, <tf.Tensor: shape=(), dtype=int32, numpy=0>)\n"
          ],
          "name": "stdout"
        }
      ]
    },
    {
      "cell_type": "code",
      "metadata": {
        "colab": {
          "base_uri": "https://localhost:8080/"
        },
        "id": "rokqgbFmV9Um",
        "outputId": "87714bf0-a7e2-4114-9c86-88aa106ed8f5"
      },
      "source": [
        "print(vectorize_layer.get_vocabulary()[2])"
      ],
      "execution_count": 20,
      "outputs": [
        {
          "output_type": "stream",
          "text": [
            "the\n"
          ],
          "name": "stdout"
        }
      ]
    },
    {
      "cell_type": "code",
      "metadata": {
        "id": "8PooGmU6WQdE"
      },
      "source": [
        "train_ds = raw_train_ds.map(vectorize_text)\n",
        "val_ds = raw_val_ds.map(vectorize_text)\n",
        "test_ds = raw_test_ds.map(vectorize_text)"
      ],
      "execution_count": 21,
      "outputs": []
    },
    {
      "cell_type": "code",
      "metadata": {
        "id": "YiT6tAI5Wmxn"
      },
      "source": [
        "train_ds = train_ds.cache().prefetch(buffer_size = tf.data.AUTOTUNE)\n",
        "val_ds = val_ds.cache().prefetch(buffer_size = tf.data.AUTOTUNE)\n",
        "test_ds = test_ds.cache().prefetch(buffer_size = tf.data.AUTOTUNE)"
      ],
      "execution_count": 22,
      "outputs": []
    },
    {
      "cell_type": "code",
      "metadata": {
        "id": "Ozt4b1hKXBUr"
      },
      "source": [
        "embedding_dim = 16"
      ],
      "execution_count": 23,
      "outputs": []
    },
    {
      "cell_type": "code",
      "metadata": {
        "colab": {
          "base_uri": "https://localhost:8080/"
        },
        "id": "9OzW3eZhYmGu",
        "outputId": "1ca41841-855f-46d4-97c7-7ce6810fb12c"
      },
      "source": [
        "model = tf.keras.Sequential([\n",
        "                             tf.keras.layers.Embedding(max_features+1, embedding_dim),\n",
        "                             tf.keras.layers.Dropout(0.2),\n",
        "                             tf.keras.layers.GlobalAveragePooling1D(),\n",
        "                             tf.keras.layers.Dropout(0.2),\n",
        "                             tf.keras.layers.Dense(1)\n",
        "])\n",
        "\n",
        "model.summary()"
      ],
      "execution_count": 24,
      "outputs": [
        {
          "output_type": "stream",
          "text": [
            "Model: \"sequential\"\n",
            "_________________________________________________________________\n",
            "Layer (type)                 Output Shape              Param #   \n",
            "=================================================================\n",
            "embedding (Embedding)        (None, None, 16)          160016    \n",
            "_________________________________________________________________\n",
            "dropout (Dropout)            (None, None, 16)          0         \n",
            "_________________________________________________________________\n",
            "global_average_pooling1d (Gl (None, 16)                0         \n",
            "_________________________________________________________________\n",
            "dropout_1 (Dropout)          (None, 16)                0         \n",
            "_________________________________________________________________\n",
            "dense (Dense)                (None, 1)                 17        \n",
            "=================================================================\n",
            "Total params: 160,033\n",
            "Trainable params: 160,033\n",
            "Non-trainable params: 0\n",
            "_________________________________________________________________\n"
          ],
          "name": "stdout"
        }
      ]
    },
    {
      "cell_type": "code",
      "metadata": {
        "id": "fk4gR0OuZlTT"
      },
      "source": [
        "model.compile(optimizer=\"adam\",\n",
        "              loss = tf.keras.losses.BinaryCrossentropy(from_logits=True),\n",
        "              metrics = [\"accuracy\"])"
      ],
      "execution_count": 25,
      "outputs": []
    },
    {
      "cell_type": "code",
      "metadata": {
        "colab": {
          "base_uri": "https://localhost:8080/"
        },
        "id": "xUrqvUgEZ3Zc",
        "outputId": "229626c9-038f-472a-ec52-f0e56aa3a6fe"
      },
      "source": [
        "history = model.fit(train_ds,validation_data=val_ds, epochs = 15)"
      ],
      "execution_count": 26,
      "outputs": [
        {
          "output_type": "stream",
          "text": [
            "Epoch 1/15\n",
            "625/625 [==============================] - 14s 18ms/step - loss: 0.6637 - accuracy: 0.5069 - val_loss: 0.6138 - val_accuracy: 0.5462\n",
            "Epoch 2/15\n",
            "625/625 [==============================] - 5s 7ms/step - loss: 0.5475 - accuracy: 0.6658 - val_loss: 0.4974 - val_accuracy: 0.7476\n",
            "Epoch 3/15\n",
            "625/625 [==============================] - 5s 7ms/step - loss: 0.4434 - accuracy: 0.7933 - val_loss: 0.4196 - val_accuracy: 0.8134\n",
            "Epoch 4/15\n",
            "625/625 [==============================] - 5s 7ms/step - loss: 0.3773 - accuracy: 0.8394 - val_loss: 0.3736 - val_accuracy: 0.8424\n",
            "Epoch 5/15\n",
            "625/625 [==============================] - 5s 8ms/step - loss: 0.3347 - accuracy: 0.8617 - val_loss: 0.3447 - val_accuracy: 0.8486\n",
            "Epoch 6/15\n",
            "625/625 [==============================] - 5s 8ms/step - loss: 0.3045 - accuracy: 0.8767 - val_loss: 0.3260 - val_accuracy: 0.8592\n",
            "Epoch 7/15\n",
            "625/625 [==============================] - 5s 8ms/step - loss: 0.2804 - accuracy: 0.8887 - val_loss: 0.3129 - val_accuracy: 0.8678\n",
            "Epoch 8/15\n",
            "625/625 [==============================] - 5s 8ms/step - loss: 0.2613 - accuracy: 0.8950 - val_loss: 0.3033 - val_accuracy: 0.8716\n",
            "Epoch 9/15\n",
            "625/625 [==============================] - 5s 8ms/step - loss: 0.2445 - accuracy: 0.9036 - val_loss: 0.2966 - val_accuracy: 0.8752\n",
            "Epoch 10/15\n",
            "625/625 [==============================] - 5s 8ms/step - loss: 0.2314 - accuracy: 0.9100 - val_loss: 0.2920 - val_accuracy: 0.8766\n",
            "Epoch 11/15\n",
            "625/625 [==============================] - 5s 8ms/step - loss: 0.2184 - accuracy: 0.9154 - val_loss: 0.2897 - val_accuracy: 0.8786\n",
            "Epoch 12/15\n",
            "625/625 [==============================] - 5s 8ms/step - loss: 0.2073 - accuracy: 0.9202 - val_loss: 0.2875 - val_accuracy: 0.8776\n",
            "Epoch 13/15\n",
            "625/625 [==============================] - 5s 8ms/step - loss: 0.1958 - accuracy: 0.9251 - val_loss: 0.2870 - val_accuracy: 0.8796\n",
            "Epoch 14/15\n",
            "625/625 [==============================] - 5s 8ms/step - loss: 0.1863 - accuracy: 0.9305 - val_loss: 0.2866 - val_accuracy: 0.8784\n",
            "Epoch 15/15\n",
            "625/625 [==============================] - 5s 8ms/step - loss: 0.1789 - accuracy: 0.9327 - val_loss: 0.2885 - val_accuracy: 0.8790\n"
          ],
          "name": "stdout"
        }
      ]
    },
    {
      "cell_type": "code",
      "metadata": {
        "colab": {
          "base_uri": "https://localhost:8080/"
        },
        "id": "uyw077dmahHs",
        "outputId": "e181cfc2-5c51-41ac-ab26-465a1eed671a"
      },
      "source": [
        "model.evaluate(test_ds)"
      ],
      "execution_count": 27,
      "outputs": [
        {
          "output_type": "stream",
          "text": [
            "782/782 [==============================] - 10s 13ms/step - loss: 0.3116 - accuracy: 0.8701\n"
          ],
          "name": "stdout"
        },
        {
          "output_type": "execute_result",
          "data": {
            "text/plain": [
              "[0.3115674555301666, 0.8701199889183044]"
            ]
          },
          "metadata": {
            "tags": []
          },
          "execution_count": 27
        }
      ]
    },
    {
      "cell_type": "code",
      "metadata": {
        "id": "UfJ2cljpbEJl"
      },
      "source": [
        "model = tf.keras.Sequential([\n",
        "                             tf.keras.layers.Embedding(max_features+1, embedding_dim),\n",
        "                             tf.keras.layers.LSTM(64),\n",
        "                             tf.keras.layers.Dense(64, activation = \"relu\"),\n",
        "                             tf.keras.layers.Dense(1)\n",
        "])\n",
        "\n",
        "model.summary()\n",
        "\n",
        "model.compile(optimizer=\"adam\",\n",
        "              loss = tf.keras.losses.BinaryCrossentropy(from_logits=True),\n",
        "              metrics = [\"accuracy\"])\n",
        "\n",
        "history = model.fit(train_ds,validation_data=val_ds, epochs = 15)"
      ],
      "execution_count": null,
      "outputs": []
    },
    {
      "cell_type": "code",
      "metadata": {
        "colab": {
          "base_uri": "https://localhost:8080/"
        },
        "id": "V2xOcjPsd_HW",
        "outputId": "129a68ee-2731-4f97-f750-28ecf3e5c6e9"
      },
      "source": [
        "model = tf.keras.Sequential([\n",
        "                             tf.keras.layers.Embedding(max_features+1, embedding_dim),\n",
        "                             tf.keras.layers.Bidirectional(tf.keras.layers.LSTM(64)),\n",
        "                             tf.keras.layers.Dense(64, activation = \"relu\"),\n",
        "                             tf.keras.layers.Dense(1)\n",
        "])\n",
        "\n",
        "model.summary()\n",
        "\n",
        "model.compile(optimizer=\"adam\",\n",
        "              loss = tf.keras.losses.BinaryCrossentropy(from_logits=True),\n",
        "              metrics = [\"accuracy\"])\n",
        "\n",
        "history = model.fit(train_ds,validation_data=val_ds, epochs = 15)"
      ],
      "execution_count": 29,
      "outputs": [
        {
          "output_type": "stream",
          "text": [
            "Model: \"sequential_2\"\n",
            "_________________________________________________________________\n",
            "Layer (type)                 Output Shape              Param #   \n",
            "=================================================================\n",
            "embedding_2 (Embedding)      (None, None, 16)          160016    \n",
            "_________________________________________________________________\n",
            "bidirectional (Bidirectional (None, 128)               41472     \n",
            "_________________________________________________________________\n",
            "dense_3 (Dense)              (None, 64)                8256      \n",
            "_________________________________________________________________\n",
            "dense_4 (Dense)              (None, 1)                 65        \n",
            "=================================================================\n",
            "Total params: 209,809\n",
            "Trainable params: 209,809\n",
            "Non-trainable params: 0\n",
            "_________________________________________________________________\n",
            "Epoch 1/15\n",
            "625/625 [==============================] - 76s 116ms/step - loss: 0.5096 - accuracy: 0.7289 - val_loss: 0.4075 - val_accuracy: 0.8298\n",
            "Epoch 2/15\n",
            "625/625 [==============================] - 72s 115ms/step - loss: 0.3119 - accuracy: 0.8713 - val_loss: 0.3494 - val_accuracy: 0.8454\n",
            "Epoch 3/15\n",
            "625/625 [==============================] - 71s 114ms/step - loss: 0.2398 - accuracy: 0.9117 - val_loss: 0.3981 - val_accuracy: 0.8268\n",
            "Epoch 4/15\n",
            "625/625 [==============================] - 71s 114ms/step - loss: 0.1948 - accuracy: 0.9303 - val_loss: 0.3835 - val_accuracy: 0.8536\n",
            "Epoch 5/15\n",
            "625/625 [==============================] - 71s 114ms/step - loss: 0.1918 - accuracy: 0.9320 - val_loss: 0.3885 - val_accuracy: 0.8516\n",
            "Epoch 6/15\n",
            "625/625 [==============================] - 71s 114ms/step - loss: 0.1636 - accuracy: 0.9407 - val_loss: 0.4697 - val_accuracy: 0.8420\n",
            "Epoch 7/15\n",
            "625/625 [==============================] - 71s 114ms/step - loss: 0.1312 - accuracy: 0.9548 - val_loss: 0.4657 - val_accuracy: 0.8426\n",
            "Epoch 8/15\n",
            "625/625 [==============================] - 71s 114ms/step - loss: 0.1065 - accuracy: 0.9642 - val_loss: 0.5169 - val_accuracy: 0.8438\n",
            "Epoch 9/15\n",
            "625/625 [==============================] - 71s 114ms/step - loss: 0.0878 - accuracy: 0.9721 - val_loss: 0.6133 - val_accuracy: 0.8414\n",
            "Epoch 10/15\n",
            "625/625 [==============================] - 71s 114ms/step - loss: 0.0746 - accuracy: 0.9761 - val_loss: 0.5885 - val_accuracy: 0.8426\n",
            "Epoch 11/15\n",
            "625/625 [==============================] - 71s 114ms/step - loss: 0.0602 - accuracy: 0.9809 - val_loss: 0.6461 - val_accuracy: 0.8418\n",
            "Epoch 12/15\n",
            "625/625 [==============================] - 72s 115ms/step - loss: 0.0547 - accuracy: 0.9837 - val_loss: 0.6431 - val_accuracy: 0.8354\n",
            "Epoch 13/15\n",
            "625/625 [==============================] - 72s 115ms/step - loss: 0.0526 - accuracy: 0.9830 - val_loss: 0.7472 - val_accuracy: 0.8418\n",
            "Epoch 14/15\n",
            "625/625 [==============================] - 71s 114ms/step - loss: 0.0500 - accuracy: 0.9843 - val_loss: 0.7409 - val_accuracy: 0.8414\n",
            "Epoch 15/15\n",
            "625/625 [==============================] - 72s 114ms/step - loss: 0.0384 - accuracy: 0.9883 - val_loss: 0.7897 - val_accuracy: 0.8430\n"
          ],
          "name": "stdout"
        }
      ]
    }
  ]
}