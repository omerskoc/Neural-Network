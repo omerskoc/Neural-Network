{
 "cells": [
  {
   "cell_type": "markdown",
   "id": "streaming-paper",
   "metadata": {},
   "source": [
    "## Backpropagation Derivation\n",
    "\n",
    "We are going to use the following notations for our derivation.\n",
    "\n",
    "- $w_{ij}^l$ : weight between neuron $i$ at $(l-1)^{th}$ layer and neuron j at $l^{th}$ layer.\n",
    "- $x_i$      : $i^{th}$ variable\n",
    "- $z_i^l$    : input of neuron $i$ at layer $l$\n",
    "- $a_i^l$    : output of neuron $i$ at layer $l$\n",
    "- $b_i^l$    : bias for neuron $i$ at layer $l$\n",
    "- $\\hat{y}$\n",
    "\n",
    "![Illustration of a fully connected neural network architecture](ANN.png)\n",
    "\n",
    "\n",
    "\n",
    "Lets start with a feed forward equations to predict output $\\hat{y}$\n",
    "\n",
    "$$z_1^1 = x_1*w_{11}^1 + x_2*w_{21}^1 + b_1^1$$\n",
    "$$z_2^1 = x_1*w_{12}^1 + x_2*w_{22}^1 + b_2^1$$\n",
    "$$z_3^1 = x_1*w_{13}^1 + x_2*w_{23}^1 + b_3^1$$\n",
    "<br>\n",
    "$$a_1^1 = g(z_1^1)$$\n",
    "$$a_2^1 = g(z_2^1)$$\n",
    "$$a_3^1 = g(z_3^1)$$\n",
    "<br>\n",
    "\n",
    "$$z_1^2 = a_1^1*w_{11}^2 + a_2^1*w_{21}^2 + a_3^1*w_{31}^2 + b_1^2$$\n",
    "$$z_2^2 = a_1^1*w_{12}^2 + a_2^1*w_{22}^2 + a_3^1*w_{32}^2 + b_2^2$$\n",
    "\n",
    "<br>\n",
    "$$a_1^2 = g(z_1^2)$$\n",
    "$$a_2^2 = g(z_2^2)$$\n",
    "\n",
    "<br>\n",
    "\n",
    "$$z_1^3 = a_1^2*w_{11}^3 + a_2^2*w_{21}^3 + b_1^3$$\n",
    "\n",
    "<br>\n",
    "\n",
    "$$\\hat{y} = f(z_1^3)$$\n",
    "\n",
    "$$g(x) = \\frac{1}{1 + e^{-x}}$$\n",
    "$$f(x) = x$$"
   ]
  },
  {
   "cell_type": "markdown",
   "id": "intense-nitrogen",
   "metadata": {},
   "source": [
    "We can write these equations in matrix form for all the observations as follows\n",
    "\n",
    "$$Z^1 = X*W^1 + b^1$$\n",
    "$$A^1 = g(Z^1)$$\n",
    "$$Z^2 = A^1*W^2 + b^2$$\n",
    "$$A^2 = g(Z^2)$$\n",
    "$$Z^3 = A^2*W^3 + b^3$$\n",
    "$$\\hat{y} = f(Z^3)$$"
   ]
  },
  {
   "cell_type": "markdown",
   "id": "crude-eligibility",
   "metadata": {},
   "source": [
    "We are going to define the loss function for single data point as \n",
    "$$L = \\frac{1}{2}(y-\\hat{y})^2$$\n",
    "\n",
    "Lets find the derivatives\n",
    "\n",
    "$$\\frac{\\partial L}{\\partial w_{21}^3} = \\frac{\\partial L}{\\partial \\hat{y}} \\frac{\\partial \\hat{y}}{\\partial z_1^3} \\frac{\\partial z_1^3}{\\partial w_{21}^3}  = (\\hat{y} - y)f'(z_1^3)a_2^2$$\n",
    "\n",
    "We will define the error term on node $i$ at layer $l$ as $\\delta_i^l$ which is defined as \n",
    "\n",
    "$$\\delta_i^l = \\frac{\\partial L}{\\partial z_i^l}$$\n",
    "\n",
    "So derivative at the last layer can be written as\n",
    "\n",
    "$$\\frac{\\partial L}{\\partial w_{ij}^{l_{last}}} = \\delta_j^{l_{last}} a_i^{l_{last}-1} $$ "
   ]
  },
  {
   "cell_type": "markdown",
   "id": "immune-header",
   "metadata": {},
   "source": [
    "$$\\frac{\\partial L}{\\partial w_{32}^2} =\\underbrace{ \\overbrace{\\frac{\\partial L}{\\partial \\hat{y}} \\frac{\\partial \\hat{y}}{\\partial z_1^3}}^{\\delta_1^3} \\frac{\\partial z_1^3}{\\partial a_2^2} \\frac{\\partial a_2^2}{\\partial z_2^2}}_{\\delta_2^2} \\frac{\\partial z_2^2}{\\partial w_{32}^2}  = \\underbrace{\\overbrace{(\\hat{y} - y)f'(z_1^3)}^{\\delta_1^3}w_{21}^3g'(z_2^2)}_{\\delta_2^2}a_3^1$$"
   ]
  },
  {
   "cell_type": "markdown",
   "id": "posted-triangle",
   "metadata": {},
   "source": [
    "$$\\frac{\\partial L}{\\partial w_{23}^1} = \\frac{\\partial L}{\\partial \\hat{y}} \\frac{\\partial \\hat{y}}{\\partial z_1^3} \\left( \\frac{\\partial z_1^3}{\\partial a_1^2} \\frac{\\partial a_1^2}{\\partial z_1^2} \\frac{\\partial z_1^2}{\\partial a_3^1} + \\frac{\\partial z_1^3}{\\partial a_2^2} \\frac{\\partial a_2^2}{\\partial z_2^2} \\frac{\\partial z_2^2}{\\partial a_3^1}\\right) \\frac{\\partial a_3^1}{\\partial z_3^1} \\frac{\\partial z_3^1}{\\partial w_{23}^1}  $$\n",
    "\n"
   ]
  },
  {
   "cell_type": "markdown",
   "id": "atmospheric-simulation",
   "metadata": {},
   "source": [
    "\\begin{equation} \n",
    "\\begin{split}\n",
    "\\frac{\\partial L}{\\partial w_{23}^1} & = \\frac{\\partial L}{\\partial \\hat{y}} \\frac{\\partial \\hat{y}}{\\partial z_1^3} \\left( \\frac{\\partial z_1^3}{\\partial a_1^2} \\frac{\\partial a_1^2}{\\partial z_1^2} \\frac{\\partial z_1^2}{\\partial a_3^1} + \\frac{\\partial z_1^3}{\\partial a_2^2} \\frac{\\partial a_2^2}{\\partial z_2^2} \\frac{\\partial z_2^2}{\\partial a_3^1}\\right) \\frac{\\partial a_3^1}{\\partial z_3^1} \\frac{\\partial z_3^1}{\\partial w_{23}^1} \\\\\n",
    "     & = (\\hat{y} - y)f'(z_1^3)\\left(w_{11}^3g'(z_1^2)w_{31}^2 + w_{21}^3g'(z_2^2)w_{32}^2 \\right)g'(z_3^1)x_2 \\\\\n",
    "     & = \\overbrace{\\left(\\underbrace{(\\hat{y} - y)f'(z_1^3)w_{11}^3g'(z_1^2)}_{\\delta_1^2}w_{31}^2g'(z_3^1) + \\underbrace{(\\hat{y} - y)f'(z_1^3)w_{21}^3g'(z_2^2)}_{\\delta_2^2}w_{32}^2g'(z_3^1)\\right)}^{\\delta_3^1}x_2\n",
    "\\end{split}\n",
    "\\end{equation}\n",
    "\n"
   ]
  },
  {
   "cell_type": "markdown",
   "id": "developing-station",
   "metadata": {},
   "source": [
    "$${\\delta_3^1} = \\sum_i\\delta_i^2w_{3i}g'(z_3^1)$$\n",
    "$${\\delta_i^l} = \\sum_k\\delta_k^{l+1}w_{ik}^{l+1}g'(z_i^l)$$"
   ]
  },
  {
   "cell_type": "markdown",
   "id": "medium-result",
   "metadata": {},
   "source": [
    "\n",
    "\n",
    "$$\\frac{\\partial L}{\\partial w_{ij}^{l}} = \\delta_j^{l} a_i^{l-1} $$ \n",
    "\n",
    "$$\\delta_i^{l_{last}} = \\frac{\\partial L}{\\partial \\hat{y}}f'(z_1^{last})$$\n",
    "$${\\delta_i^l} = \\sum_k\\delta_k^{l+1}w_{ik}^{l+1}g'(z_i^l)$$\n",
    "\n"
   ]
  }
 ],
 "metadata": {
  "hide_input": false,
  "kernelspec": {
   "display_name": "Python 3",
   "language": "python",
   "name": "python3"
  },
  "language_info": {
   "codemirror_mode": {
    "name": "ipython",
    "version": 3
   },
   "file_extension": ".py",
   "mimetype": "text/x-python",
   "name": "python",
   "nbconvert_exporter": "python",
   "pygments_lexer": "ipython3",
   "version": "3.7.10"
  }
 },
 "nbformat": 4,
 "nbformat_minor": 5
}
