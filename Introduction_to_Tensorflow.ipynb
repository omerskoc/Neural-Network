{
  "nbformat": 4,
  "nbformat_minor": 0,
  "metadata": {
    "colab": {
      "name": "Introduction to Tensorflow.ipynb",
      "provenance": []
    },
    "kernelspec": {
      "name": "python3",
      "display_name": "Python 3"
    },
    "language_info": {
      "name": "python"
    }
  },
  "cells": [
    {
      "cell_type": "code",
      "metadata": {
        "colab": {
          "base_uri": "https://localhost:8080/"
        },
        "id": "lk1Z3sXKtloL",
        "outputId": "1ff7cb41-a206-4f8e-e76f-a10b64843c12"
      },
      "source": [
        "import tensorflow as tf\n",
        "print(tf.__version__)"
      ],
      "execution_count": 4,
      "outputs": [
        {
          "output_type": "stream",
          "text": [
            "2.4.1\n"
          ],
          "name": "stdout"
        }
      ]
    },
    {
      "cell_type": "code",
      "metadata": {
        "id": "W3aPV0pguzV9"
      },
      "source": [
        "from tensorflow.keras.models import Sequential\n",
        "from tensorflow.keras.layers import Dense, Dropout\n",
        "\n",
        "from tensorflow.keras.datasets import boston_housing"
      ],
      "execution_count": 128,
      "outputs": []
    },
    {
      "cell_type": "code",
      "metadata": {
        "colab": {
          "base_uri": "https://localhost:8080/"
        },
        "id": "n7-gRtcAwGQS",
        "outputId": "eb6423b1-50c7-4024-dfcc-2b0a6dafccd0"
      },
      "source": [
        "(X_train,y_train),(X_test,y_test) = boston_housing.load_data()"
      ],
      "execution_count": 6,
      "outputs": [
        {
          "output_type": "stream",
          "text": [
            "Downloading data from https://storage.googleapis.com/tensorflow/tf-keras-datasets/boston_housing.npz\n",
            "57344/57026 [==============================] - 0s 0us/step\n"
          ],
          "name": "stdout"
        }
      ]
    },
    {
      "cell_type": "code",
      "metadata": {
        "id": "HQQ7O4mLwgHt"
      },
      "source": [
        "mean_train = X_train.mean(axis = 0)\n",
        "std_train = X_train.std(axis = 0)\n",
        "\n",
        "X_train_new = (X_train-mean_train)/std_train\n",
        "X_test_new = (X_test-mean_train)/std_train"
      ],
      "execution_count": 13,
      "outputs": []
    },
    {
      "cell_type": "code",
      "metadata": {
        "colab": {
          "base_uri": "https://localhost:8080/"
        },
        "id": "H5kf438_y6xj",
        "outputId": "bded4c93-86a4-4599-b3a3-ae3e44f550a1"
      },
      "source": [
        "X_train_new.shape[1]\n",
        "14*16"
      ],
      "execution_count": 19,
      "outputs": [
        {
          "output_type": "execute_result",
          "data": {
            "text/plain": [
              "224"
            ]
          },
          "metadata": {
            "tags": []
          },
          "execution_count": 19
        }
      ]
    },
    {
      "cell_type": "code",
      "metadata": {
        "id": "HRAJJefxxvhK"
      },
      "source": [
        "model = Sequential()\n",
        "model.add(Dense(16, activation=\"relu\", input_shape = (X_train_new.shape[1],)))\n",
        "model.add(Dense(8, activation=\"relu\"))\n",
        "model.add(Dense(1))\n"
      ],
      "execution_count": 111,
      "outputs": []
    },
    {
      "cell_type": "code",
      "metadata": {
        "colab": {
          "base_uri": "https://localhost:8080/"
        },
        "id": "BDWT5QFw3m93",
        "outputId": "8d32d77d-48b8-4d5a-b6d7-bbc5a7e65f66"
      },
      "source": [
        "model.compile(optimizer = \"adam\", loss=\"mse\", metrics = [\"mape\"])\n",
        "history = model.fit(X_train_new,y_train, epochs = 50, verbose = 0)\n",
        "\n",
        "ypred_train = model.predict(X_train_new)\n",
        "ypred_test = model.predict(X_test_new)\n",
        "\n",
        "from sklearn.metrics import mean_squared_error\n",
        "\n",
        "print(mean_squared_error(y_train,ypred_train))\n",
        "print(mean_squared_error(y_test,ypred_test))"
      ],
      "execution_count": 110,
      "outputs": [
        {
          "output_type": "stream",
          "text": [
            "9.238399021979303\n",
            "21.211325258105507\n"
          ],
          "name": "stdout"
        }
      ]
    },
    {
      "cell_type": "code",
      "metadata": {
        "colab": {
          "base_uri": "https://localhost:8080/",
          "height": 315
        },
        "id": "-03oiDyD0coc",
        "outputId": "ba456df9-d866-4cb0-c246-884530637daf"
      },
      "source": [
        "import pandas as pd\n",
        "import matplotlib.pyplot as plt\n",
        "df = pd.DataFrame(history.history)\n",
        "df[\"mape\"].plot()\n",
        "df.iloc[-1,:]"
      ],
      "execution_count": 47,
      "outputs": [
        {
          "output_type": "execute_result",
          "data": {
            "text/plain": [
              "loss    2.236108\n",
              "mape    5.633093\n",
              "Name: 999, dtype: float64"
            ]
          },
          "metadata": {
            "tags": []
          },
          "execution_count": 47
        },
        {
          "output_type": "display_data",
          "data": {
            "image/png": "[encoded data removed]",
            "text/plain": [
              "<Figure size 432x288 with 1 Axes>"
            ]
          },
          "metadata": {
            "tags": [],
            "needs_background": "light"
          }
        }
      ]
    },
    {
      "cell_type": "code",
      "metadata": {
        "id": "yJXNzCAB9TFC"
      },
      "source": [
        "model = Sequential()\n",
        "model.add(Dense(16, activation=\"relu\", input_shape = (X_train_new.shape[1],)))\n",
        "model.add(Dense(8, activation=\"relu\"))\n",
        "model.add(Dense(1))\n",
        "\n",
        "model.compile(optimizer = \"adam\", loss=\"mse\", metrics = [\"mape\"])\n",
        "history = model.fit(X_train_new,y_train, epochs = 1000, verbose = 0, validation_split=0.1)"
      ],
      "execution_count": 122,
      "outputs": []
    },
    {
      "cell_type": "code",
      "metadata": {
        "id": "kfaHgqxm-H8G"
      },
      "source": [
        "df = pd.DataFrame(history.history)\n",
        "df[[\"loss\",\"val_loss\"]].plot()\n",
        "plt.ylim([4,8])"
      ],
      "execution_count": null,
      "outputs": []
    },
    {
      "cell_type": "code",
      "metadata": {
        "id": "ruoz7cE__Z4v"
      },
      "source": [
        "model = Sequential()\n",
        "model.add(Dense(16, activation=\"relu\", input_shape = (X_train_new.shape[1],)))\n",
        "model.add(Dense(8, activation=\"relu\"))\n",
        "model.add(Dense(1))\n",
        "\n",
        "early_stop = tf.keras.callbacks.EarlyStopping(monitor=\"val_loss\", patience=50)\n",
        "\n",
        "model.compile(optimizer = \"adam\", loss=\"mse\", metrics = [\"mape\"])\n",
        "history = model.fit(X_train_new,y_train, epochs = 1000, verbose = 0, validation_split=0.1, callbacks=[early_stop])\n",
        "\n"
      ],
      "execution_count": 124,
      "outputs": []
    },
    {
      "cell_type": "code",
      "metadata": {
        "colab": {
          "base_uri": "https://localhost:8080/",
          "height": 282
        },
        "id": "8uoV2m5xAVXK",
        "outputId": "0806259b-eadb-46ec-b0c6-894e5dd24d18"
      },
      "source": [
        "df = pd.DataFrame(history.history)\n",
        "df[[\"loss\",\"val_loss\"]].plot()\n",
        "plt.ylim([4,15])"
      ],
      "execution_count": 127,
      "outputs": [
        {
          "output_type": "execute_result",
          "data": {
            "text/plain": [
              "(4.0, 15.0)"
            ]
          },
          "metadata": {
            "tags": []
          },
          "execution_count": 127
        },
        {
          "output_type": "display_data",
          "data": {
            "image/png": "[encoded data removed]",
            "text/plain": [
              "<Figure size 432x288 with 1 Axes>"
            ]
          },
          "metadata": {
            "tags": [],
            "needs_background": "light"
          }
        }
      ]
    },
    {
      "cell_type": "code",
      "metadata": {
        "colab": {
          "base_uri": "https://localhost:8080/"
        },
        "id": "EgT6zCECBhom",
        "outputId": "dfc14770-abd9-49cd-a93c-98e558bc687b"
      },
      "source": [
        "model = Sequential()\n",
        "model.add(Dense(128, activation=\"relu\", input_shape = (X_train_new.shape[1],)))\n",
        "model.add(Dropout(0.2))\n",
        "model.add(Dense(64, activation=\"relu\"))\n",
        "model.add(Dropout(0.2))\n",
        "model.add(Dense(32, activation=\"relu\"))\n",
        "model.add(Dense(1))\n",
        "model.summary()\n",
        "\n",
        "early_stop = tf.keras.callbacks.EarlyStopping(monitor=\"val_loss\", patience=50)\n",
        "\n",
        "model.compile(optimizer = \"adam\", loss=\"mse\", metrics = [\"mape\"])\n",
        "history = model.fit(X_train_new,y_train, epochs = 1000, verbose = 0, validation_split=0.1, callbacks=[early_stop])"
      ],
      "execution_count": 130,
      "outputs": [
        {
          "output_type": "stream",
          "text": [
            "Model: \"sequential_28\"\n",
            "_________________________________________________________________\n",
            "Layer (type)                 Output Shape              Param #   \n",
            "=================================================================\n",
            "dense_84 (Dense)             (None, 128)               1792      \n",
            "_________________________________________________________________\n",
            "dropout (Dropout)            (None, 128)               0         \n",
            "_________________________________________________________________\n",
            "dense_85 (Dense)             (None, 64)                8256      \n",
            "_________________________________________________________________\n",
            "dropout_1 (Dropout)          (None, 64)                0         \n",
            "_________________________________________________________________\n",
            "dense_86 (Dense)             (None, 32)                2080      \n",
            "_________________________________________________________________\n",
            "dense_87 (Dense)             (None, 1)                 33        \n",
            "=================================================================\n",
            "Total params: 12,161\n",
            "Trainable params: 12,161\n",
            "Non-trainable params: 0\n",
            "_________________________________________________________________\n"
          ],
          "name": "stdout"
        }
      ]
    },
    {
      "cell_type": "code",
      "metadata": {
        "id": "9QuBwqptCmVK"
      },
      "source": [
        "df = pd.DataFrame(history.history)\n",
        "df[[\"loss\",\"val_loss\"]].plot()\n",
        "plt.ylim([4,15])"
      ],
      "execution_count": null,
      "outputs": []
    },
    {
      "cell_type": "code",
      "metadata": {
        "colab": {
          "base_uri": "https://localhost:8080/"
        },
        "id": "nfT_ASZhCv7H",
        "outputId": "bdacd7b8-9166-4847-801d-ab2cba774234"
      },
      "source": [
        "model = Sequential([Dense(128, activation=\"relu\", input_shape = (X_train_new.shape[1],)),\n",
        "                    Dropout(0.2),\n",
        "                    Dense(64, activation=\"relu\"),\n",
        "                    Dropout(0.2),\n",
        "                    Dense(32, activation=\"relu\"),\n",
        "                    Dense(1, activation=\"relu\")])\n",
        "\n",
        "model.summary()"
      ],
      "execution_count": 134,
      "outputs": [
        {
          "output_type": "stream",
          "text": [
            "Model: \"sequential_30\"\n",
            "_________________________________________________________________\n",
            "Layer (type)                 Output Shape              Param #   \n",
            "=================================================================\n",
            "dense_94 (Dense)             (None, 128)               1792      \n",
            "_________________________________________________________________\n",
            "dropout_5 (Dropout)          (None, 128)               0         \n",
            "_________________________________________________________________\n",
            "dense_95 (Dense)             (None, 64)                8256      \n",
            "_________________________________________________________________\n",
            "dropout_6 (Dropout)          (None, 64)                0         \n",
            "_________________________________________________________________\n",
            "dense_96 (Dense)             (None, 32)                2080      \n",
            "_________________________________________________________________\n",
            "dense_97 (Dense)             (None, 1)                 33        \n",
            "=================================================================\n",
            "Total params: 12,161\n",
            "Trainable params: 12,161\n",
            "Non-trainable params: 0\n",
            "_________________________________________________________________\n"
          ],
          "name": "stdout"
        }
      ]
    }
  ]
}